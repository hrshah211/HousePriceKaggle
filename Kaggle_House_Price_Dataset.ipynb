{
  "nbformat": 4,
  "nbformat_minor": 0,
  "metadata": {
    "colab": {
      "name": "Kaggle House Price Dataset.ipynb",
      "provenance": [],
      "authorship_tag": "ABX9TyN6ZACGj+2WKJXmH+RXtDfi",
      "include_colab_link": true
    },
    "kernelspec": {
      "display_name": "Python 3",
      "name": "python3"
    },
    "language_info": {
      "name": "python"
    },
    "widgets": {
      "application/vnd.jupyter.widget-state+json": {
        "f723db17a61e4d8eb3a63862b556cdcd": {
          "model_module": "@jupyter-widgets/controls",
          "model_name": "IntProgressModel",
          "state": {
            "_view_name": "ProgressView",
            "style": "IPY_MODEL_519926fd8b5644f1a0adfecf8d304ff2",
            "_dom_classes": [],
            "description": "Processing: ",
            "_model_name": "IntProgressModel",
            "bar_style": "",
            "max": 3,
            "_view_module": "@jupyter-widgets/controls",
            "_model_module_version": "1.5.0",
            "value": 3,
            "_view_count": null,
            "_view_module_version": "1.5.0",
            "orientation": "horizontal",
            "min": 0,
            "description_tooltip": null,
            "_model_module": "@jupyter-widgets/controls",
            "layout": "IPY_MODEL_8ffc351c15714e1a872edb750c356906"
          }
        },
        "519926fd8b5644f1a0adfecf8d304ff2": {
          "model_module": "@jupyter-widgets/controls",
          "model_name": "ProgressStyleModel",
          "state": {
            "_view_name": "StyleView",
            "_model_name": "ProgressStyleModel",
            "description_width": "",
            "_view_module": "@jupyter-widgets/base",
            "_model_module_version": "1.5.0",
            "_view_count": null,
            "_view_module_version": "1.2.0",
            "bar_color": null,
            "_model_module": "@jupyter-widgets/controls"
          }
        },
        "8ffc351c15714e1a872edb750c356906": {
          "model_module": "@jupyter-widgets/base",
          "model_name": "LayoutModel",
          "state": {
            "_view_name": "LayoutView",
            "grid_template_rows": null,
            "right": null,
            "justify_content": null,
            "_view_module": "@jupyter-widgets/base",
            "overflow": null,
            "_model_module_version": "1.2.0",
            "_view_count": null,
            "flex_flow": null,
            "width": null,
            "min_width": null,
            "border": null,
            "align_items": null,
            "bottom": null,
            "_model_module": "@jupyter-widgets/base",
            "top": null,
            "grid_column": null,
            "overflow_y": null,
            "overflow_x": null,
            "grid_auto_flow": null,
            "grid_area": null,
            "grid_template_columns": null,
            "flex": null,
            "_model_name": "LayoutModel",
            "justify_items": null,
            "grid_row": null,
            "max_height": null,
            "align_content": null,
            "visibility": null,
            "align_self": null,
            "height": null,
            "min_height": null,
            "padding": null,
            "grid_auto_rows": null,
            "grid_gap": null,
            "max_width": null,
            "order": null,
            "_view_module_version": "1.2.0",
            "grid_template_areas": null,
            "object_position": null,
            "object_fit": null,
            "grid_auto_columns": null,
            "margin": null,
            "display": null,
            "left": null
          }
        },
        "07571925f1dd4924b4a7e89442287e0d": {
          "model_module": "@jupyter-widgets/controls",
          "model_name": "TextModel",
          "state": {
            "_view_name": "TextView",
            "style": "IPY_MODEL_6da5650cad344be583c9f07660fccdb7",
            "_dom_classes": [],
            "description": "",
            "_model_name": "TextModel",
            "placeholder": "​",
            "_view_module": "@jupyter-widgets/controls",
            "_model_module_version": "1.5.0",
            "value": "Following data types have been inferred automatically, if they are correct press enter to continue or type 'quit' otherwise.",
            "_view_count": null,
            "disabled": false,
            "_view_module_version": "1.5.0",
            "continuous_update": true,
            "description_tooltip": null,
            "_model_module": "@jupyter-widgets/controls",
            "layout": "IPY_MODEL_747ab02a38de44c1a651523fac1e87b3"
          }
        },
        "6da5650cad344be583c9f07660fccdb7": {
          "model_module": "@jupyter-widgets/controls",
          "model_name": "DescriptionStyleModel",
          "state": {
            "_view_name": "StyleView",
            "_model_name": "DescriptionStyleModel",
            "description_width": "",
            "_view_module": "@jupyter-widgets/base",
            "_model_module_version": "1.5.0",
            "_view_count": null,
            "_view_module_version": "1.2.0",
            "_model_module": "@jupyter-widgets/controls"
          }
        },
        "747ab02a38de44c1a651523fac1e87b3": {
          "model_module": "@jupyter-widgets/base",
          "model_name": "LayoutModel",
          "state": {
            "_view_name": "LayoutView",
            "grid_template_rows": null,
            "right": null,
            "justify_content": null,
            "_view_module": "@jupyter-widgets/base",
            "overflow": null,
            "_model_module_version": "1.2.0",
            "_view_count": null,
            "flex_flow": null,
            "width": "100%",
            "min_width": null,
            "border": null,
            "align_items": null,
            "bottom": null,
            "_model_module": "@jupyter-widgets/base",
            "top": null,
            "grid_column": null,
            "overflow_y": null,
            "overflow_x": null,
            "grid_auto_flow": null,
            "grid_area": null,
            "grid_template_columns": null,
            "flex": null,
            "_model_name": "LayoutModel",
            "justify_items": null,
            "grid_row": null,
            "max_height": null,
            "align_content": null,
            "visibility": null,
            "align_self": null,
            "height": null,
            "min_height": null,
            "padding": null,
            "grid_auto_rows": null,
            "grid_gap": null,
            "max_width": null,
            "order": null,
            "_view_module_version": "1.2.0",
            "grid_template_areas": null,
            "object_position": null,
            "object_fit": null,
            "grid_auto_columns": null,
            "margin": null,
            "display": null,
            "left": null
          }
        },
        "f0139becc7504e76baa4d0493647c61f": {
          "model_module": "@jupyter-widgets/controls",
          "model_name": "IntProgressModel",
          "state": {
            "_view_name": "ProgressView",
            "style": "IPY_MODEL_bf375f17af924446ab341c7486fbd2d1",
            "_dom_classes": [],
            "description": "Processing: ",
            "_model_name": "IntProgressModel",
            "bar_style": "",
            "max": 89,
            "_view_module": "@jupyter-widgets/controls",
            "_model_module_version": "1.5.0",
            "value": 89,
            "_view_count": null,
            "_view_module_version": "1.5.0",
            "orientation": "horizontal",
            "min": 0,
            "description_tooltip": null,
            "_model_module": "@jupyter-widgets/controls",
            "layout": "IPY_MODEL_76a3cfad5c224005844788eb6a9cd9de"
          }
        },
        "bf375f17af924446ab341c7486fbd2d1": {
          "model_module": "@jupyter-widgets/controls",
          "model_name": "ProgressStyleModel",
          "state": {
            "_view_name": "StyleView",
            "_model_name": "ProgressStyleModel",
            "description_width": "",
            "_view_module": "@jupyter-widgets/base",
            "_model_module_version": "1.5.0",
            "_view_count": null,
            "_view_module_version": "1.2.0",
            "bar_color": null,
            "_model_module": "@jupyter-widgets/controls"
          }
        },
        "76a3cfad5c224005844788eb6a9cd9de": {
          "model_module": "@jupyter-widgets/base",
          "model_name": "LayoutModel",
          "state": {
            "_view_name": "LayoutView",
            "grid_template_rows": null,
            "right": null,
            "justify_content": null,
            "_view_module": "@jupyter-widgets/base",
            "overflow": null,
            "_model_module_version": "1.2.0",
            "_view_count": null,
            "flex_flow": null,
            "width": null,
            "min_width": null,
            "border": null,
            "align_items": null,
            "bottom": null,
            "_model_module": "@jupyter-widgets/base",
            "top": null,
            "grid_column": null,
            "overflow_y": null,
            "overflow_x": null,
            "grid_auto_flow": null,
            "grid_area": null,
            "grid_template_columns": null,
            "flex": null,
            "_model_name": "LayoutModel",
            "justify_items": null,
            "grid_row": null,
            "max_height": null,
            "align_content": null,
            "visibility": null,
            "align_self": null,
            "height": null,
            "min_height": null,
            "padding": null,
            "grid_auto_rows": null,
            "grid_gap": null,
            "max_width": null,
            "order": null,
            "_view_module_version": "1.2.0",
            "grid_template_areas": null,
            "object_position": null,
            "object_fit": null,
            "grid_auto_columns": null,
            "margin": null,
            "display": null,
            "left": null
          }
        },
        "85125466f1934088bd380e65b98243fa": {
          "model_module": "@jupyter-widgets/controls",
          "model_name": "IntProgressModel",
          "state": {
            "_view_name": "ProgressView",
            "style": "IPY_MODEL_547a2fe1080943428ca5567a99c42f77",
            "_dom_classes": [],
            "description": "Processing: ",
            "_model_name": "IntProgressModel",
            "bar_style": "",
            "max": 4,
            "_view_module": "@jupyter-widgets/controls",
            "_model_module_version": "1.5.0",
            "value": 4,
            "_view_count": null,
            "_view_module_version": "1.5.0",
            "orientation": "horizontal",
            "min": 0,
            "description_tooltip": null,
            "_model_module": "@jupyter-widgets/controls",
            "layout": "IPY_MODEL_94e9e7fc4ade4e85960edee86a71dfd4"
          }
        },
        "547a2fe1080943428ca5567a99c42f77": {
          "model_module": "@jupyter-widgets/controls",
          "model_name": "ProgressStyleModel",
          "state": {
            "_view_name": "StyleView",
            "_model_name": "ProgressStyleModel",
            "description_width": "",
            "_view_module": "@jupyter-widgets/base",
            "_model_module_version": "1.5.0",
            "_view_count": null,
            "_view_module_version": "1.2.0",
            "bar_color": null,
            "_model_module": "@jupyter-widgets/controls"
          }
        },
        "94e9e7fc4ade4e85960edee86a71dfd4": {
          "model_module": "@jupyter-widgets/base",
          "model_name": "LayoutModel",
          "state": {
            "_view_name": "LayoutView",
            "grid_template_rows": null,
            "right": null,
            "justify_content": null,
            "_view_module": "@jupyter-widgets/base",
            "overflow": null,
            "_model_module_version": "1.2.0",
            "_view_count": null,
            "flex_flow": null,
            "width": null,
            "min_width": null,
            "border": null,
            "align_items": null,
            "bottom": null,
            "_model_module": "@jupyter-widgets/base",
            "top": null,
            "grid_column": null,
            "overflow_y": null,
            "overflow_x": null,
            "grid_auto_flow": null,
            "grid_area": null,
            "grid_template_columns": null,
            "flex": null,
            "_model_name": "LayoutModel",
            "justify_items": null,
            "grid_row": null,
            "max_height": null,
            "align_content": null,
            "visibility": null,
            "align_self": null,
            "height": null,
            "min_height": null,
            "padding": null,
            "grid_auto_rows": null,
            "grid_gap": null,
            "max_width": null,
            "order": null,
            "_view_module_version": "1.2.0",
            "grid_template_areas": null,
            "object_position": null,
            "object_fit": null,
            "grid_auto_columns": null,
            "margin": null,
            "display": null,
            "left": null
          }
        },
        "c3d1d08da83a4c2ea0b2377adf6cdfc0": {
          "model_module": "@jupyter-widgets/controls",
          "model_name": "IntProgressModel",
          "state": {
            "_view_name": "ProgressView",
            "style": "IPY_MODEL_9fff2b758b7643ea91688f8f6df3c343",
            "_dom_classes": [],
            "description": "Processing: ",
            "_model_name": "IntProgressModel",
            "bar_style": "",
            "max": 7,
            "_view_module": "@jupyter-widgets/controls",
            "_model_module_version": "1.5.0",
            "value": 7,
            "_view_count": null,
            "_view_module_version": "1.5.0",
            "orientation": "horizontal",
            "min": 0,
            "description_tooltip": null,
            "_model_module": "@jupyter-widgets/controls",
            "layout": "IPY_MODEL_fbc2691155e2416e8c30c17823c9077f"
          }
        },
        "9fff2b758b7643ea91688f8f6df3c343": {
          "model_module": "@jupyter-widgets/controls",
          "model_name": "ProgressStyleModel",
          "state": {
            "_view_name": "StyleView",
            "_model_name": "ProgressStyleModel",
            "description_width": "",
            "_view_module": "@jupyter-widgets/base",
            "_model_module_version": "1.5.0",
            "_view_count": null,
            "_view_module_version": "1.2.0",
            "bar_color": null,
            "_model_module": "@jupyter-widgets/controls"
          }
        },
        "fbc2691155e2416e8c30c17823c9077f": {
          "model_module": "@jupyter-widgets/base",
          "model_name": "LayoutModel",
          "state": {
            "_view_name": "LayoutView",
            "grid_template_rows": null,
            "right": null,
            "justify_content": null,
            "_view_module": "@jupyter-widgets/base",
            "overflow": null,
            "_model_module_version": "1.2.0",
            "_view_count": null,
            "flex_flow": null,
            "width": null,
            "min_width": null,
            "border": null,
            "align_items": null,
            "bottom": null,
            "_model_module": "@jupyter-widgets/base",
            "top": null,
            "grid_column": null,
            "overflow_y": null,
            "overflow_x": null,
            "grid_auto_flow": null,
            "grid_area": null,
            "grid_template_columns": null,
            "flex": null,
            "_model_name": "LayoutModel",
            "justify_items": null,
            "grid_row": null,
            "max_height": null,
            "align_content": null,
            "visibility": null,
            "align_self": null,
            "height": null,
            "min_height": null,
            "padding": null,
            "grid_auto_rows": null,
            "grid_gap": null,
            "max_width": null,
            "order": null,
            "_view_module_version": "1.2.0",
            "grid_template_areas": null,
            "object_position": null,
            "object_fit": null,
            "grid_auto_columns": null,
            "margin": null,
            "display": null,
            "left": null
          }
        }
      }
    }
  },
  "cells": [
    {
      "cell_type": "markdown",
      "metadata": {
        "id": "view-in-github",
        "colab_type": "text"
      },
      "source": [
        "<a href=\"https://colab.research.google.com/github/hrshah211/HousePriceKaggle/blob/main/Kaggle_House_Price_Dataset.ipynb\" target=\"_parent\"><img src=\"https://colab.research.google.com/assets/colab-badge.svg\" alt=\"Open In Colab\"/></a>"
      ]
    },
    {
      "cell_type": "markdown",
      "metadata": {
        "id": "ZCx9kN05949b"
      },
      "source": [
        "## Installing PyCaret"
      ]
    },
    {
      "cell_type": "code",
      "metadata": {
        "colab": {
          "base_uri": "https://localhost:8080/"
        },
        "id": "kQgMBpdhudh7",
        "outputId": "c3affc67-584f-493d-fc64-19bdc54708f6"
      },
      "source": [
        "!pip install pycaret"
      ],
      "execution_count": null,
      "outputs": [
        {
          "output_type": "stream",
          "text": [
            "Requirement already satisfied: pycaret in /usr/local/lib/python3.7/dist-packages (2.3.0)\n",
            "Requirement already satisfied: pyLDAvis in /usr/local/lib/python3.7/dist-packages (from pycaret) (3.3.1)\n",
            "Requirement already satisfied: pandas-profiling>=2.8.0 in /usr/local/lib/python3.7/dist-packages (from pycaret) (2.11.0)\n",
            "Requirement already satisfied: Boruta in /usr/local/lib/python3.7/dist-packages (from pycaret) (0.3)\n",
            "Requirement already satisfied: plotly>=4.4.1 in /usr/local/lib/python3.7/dist-packages (from pycaret) (4.4.1)\n",
            "Requirement already satisfied: imbalanced-learn>=0.7.0 in /usr/local/lib/python3.7/dist-packages (from pycaret) (0.8.0)\n",
            "Requirement already satisfied: textblob in /usr/local/lib/python3.7/dist-packages (from pycaret) (0.15.3)\n",
            "Requirement already satisfied: scikit-learn==0.23.2 in /usr/local/lib/python3.7/dist-packages (from pycaret) (0.23.2)\n",
            "Requirement already satisfied: nltk in /usr/local/lib/python3.7/dist-packages (from pycaret) (3.2.5)\n",
            "Requirement already satisfied: umap-learn in /usr/local/lib/python3.7/dist-packages (from pycaret) (0.5.1)\n",
            "Requirement already satisfied: matplotlib in /usr/local/lib/python3.7/dist-packages (from pycaret) (3.2.2)\n",
            "Requirement already satisfied: lightgbm>=2.3.1 in /usr/local/lib/python3.7/dist-packages (from pycaret) (3.2.1)\n",
            "Requirement already satisfied: IPython in /usr/local/lib/python3.7/dist-packages (from pycaret) (5.5.0)\n",
            "Requirement already satisfied: yellowbrick>=1.0.1 in /usr/local/lib/python3.7/dist-packages (from pycaret) (1.3.post1)\n",
            "Requirement already satisfied: mlxtend in /usr/local/lib/python3.7/dist-packages (from pycaret) (0.14.0)\n",
            "Requirement already satisfied: numpy==1.19.5 in /usr/local/lib/python3.7/dist-packages (from pycaret) (1.19.5)\n",
            "Requirement already satisfied: mlflow in /usr/local/lib/python3.7/dist-packages (from pycaret) (1.15.0)\n",
            "Requirement already satisfied: ipywidgets in /usr/local/lib/python3.7/dist-packages (from pycaret) (7.6.3)\n",
            "Requirement already satisfied: wordcloud in /usr/local/lib/python3.7/dist-packages (from pycaret) (1.5.0)\n",
            "Requirement already satisfied: scikit-plot in /usr/local/lib/python3.7/dist-packages (from pycaret) (0.3.7)\n",
            "Requirement already satisfied: seaborn in /usr/local/lib/python3.7/dist-packages (from pycaret) (0.11.1)\n",
            "Requirement already satisfied: joblib in /usr/local/lib/python3.7/dist-packages (from pycaret) (1.0.1)\n",
            "Requirement already satisfied: cufflinks>=0.17.0 in /usr/local/lib/python3.7/dist-packages (from pycaret) (0.17.3)\n",
            "Requirement already satisfied: spacy<2.4.0 in /usr/local/lib/python3.7/dist-packages (from pycaret) (2.2.4)\n",
            "Requirement already satisfied: pandas in /usr/local/lib/python3.7/dist-packages (from pycaret) (1.1.5)\n",
            "Requirement already satisfied: kmodes>=0.10.1 in /usr/local/lib/python3.7/dist-packages (from pycaret) (0.11.0)\n",
            "Requirement already satisfied: gensim in /usr/local/lib/python3.7/dist-packages (from pycaret) (3.6.0)\n",
            "Requirement already satisfied: pyod in /usr/local/lib/python3.7/dist-packages (from pycaret) (0.8.7)\n",
            "Requirement already satisfied: scipy<=1.5.4 in /usr/local/lib/python3.7/dist-packages (from pycaret) (1.4.1)\n",
            "Requirement already satisfied: numexpr in /usr/local/lib/python3.7/dist-packages (from pyLDAvis->pycaret) (2.7.3)\n",
            "Requirement already satisfied: setuptools in /usr/local/lib/python3.7/dist-packages (from pyLDAvis->pycaret) (54.2.0)\n",
            "Requirement already satisfied: funcy in /usr/local/lib/python3.7/dist-packages (from pyLDAvis->pycaret) (1.15)\n",
            "Requirement already satisfied: future in /usr/local/lib/python3.7/dist-packages (from pyLDAvis->pycaret) (0.16.0)\n",
            "Requirement already satisfied: sklearn in /usr/local/lib/python3.7/dist-packages (from pyLDAvis->pycaret) (0.0)\n",
            "Requirement already satisfied: jinja2 in /usr/local/lib/python3.7/dist-packages (from pyLDAvis->pycaret) (2.11.3)\n",
            "Requirement already satisfied: visions[type_image_path]==0.6.0 in /usr/local/lib/python3.7/dist-packages (from pandas-profiling>=2.8.0->pycaret) (0.6.0)\n",
            "Collecting tqdm>=4.48.2\n",
            "\u001b[?25l  Downloading https://files.pythonhosted.org/packages/72/8a/34efae5cf9924328a8f34eeb2fdaae14c011462d9f0e3fcded48e1266d1c/tqdm-4.60.0-py2.py3-none-any.whl (75kB)\n",
            "\u001b[K     |████████████████████████████████| 81kB 3.8MB/s \n",
            "\u001b[?25hCollecting requests>=2.24.0\n",
            "\u001b[?25l  Downloading https://files.pythonhosted.org/packages/29/c1/24814557f1d22c56d50280771a17307e6bf87b70727d975fd6b2ce6b014a/requests-2.25.1-py2.py3-none-any.whl (61kB)\n",
            "\u001b[K     |████████████████████████████████| 61kB 3.6MB/s \n",
            "\u001b[?25hRequirement already satisfied: phik>=0.10.0 in /usr/local/lib/python3.7/dist-packages (from pandas-profiling>=2.8.0->pycaret) (0.11.2)\n",
            "Requirement already satisfied: attrs>=19.3.0 in /usr/local/lib/python3.7/dist-packages (from pandas-profiling>=2.8.0->pycaret) (20.3.0)\n",
            "Requirement already satisfied: confuse>=1.0.0 in /usr/local/lib/python3.7/dist-packages (from pandas-profiling>=2.8.0->pycaret) (1.4.0)\n",
            "Requirement already satisfied: missingno>=0.4.2 in /usr/local/lib/python3.7/dist-packages (from pandas-profiling>=2.8.0->pycaret) (0.4.2)\n",
            "Requirement already satisfied: tangled-up-in-unicode>=0.0.6 in /usr/local/lib/python3.7/dist-packages (from pandas-profiling>=2.8.0->pycaret) (0.0.7)\n",
            "Requirement already satisfied: htmlmin>=0.1.12 in /usr/local/lib/python3.7/dist-packages (from pandas-profiling>=2.8.0->pycaret) (0.1.12)\n",
            "Requirement already satisfied: six in /usr/local/lib/python3.7/dist-packages (from plotly>=4.4.1->pycaret) (1.15.0)\n",
            "Requirement already satisfied: retrying>=1.3.3 in /usr/local/lib/python3.7/dist-packages (from plotly>=4.4.1->pycaret) (1.3.3)\n",
            "Requirement already satisfied: threadpoolctl>=2.0.0 in /usr/local/lib/python3.7/dist-packages (from scikit-learn==0.23.2->pycaret) (2.1.0)\n",
            "Requirement already satisfied: pynndescent>=0.5 in /usr/local/lib/python3.7/dist-packages (from umap-learn->pycaret) (0.5.2)\n",
            "Requirement already satisfied: numba>=0.49 in /usr/local/lib/python3.7/dist-packages (from umap-learn->pycaret) (0.51.2)\n",
            "Requirement already satisfied: pyparsing!=2.0.4,!=2.1.2,!=2.1.6,>=2.0.1 in /usr/local/lib/python3.7/dist-packages (from matplotlib->pycaret) (2.4.7)\n",
            "Requirement already satisfied: cycler>=0.10 in /usr/local/lib/python3.7/dist-packages (from matplotlib->pycaret) (0.10.0)\n",
            "Requirement already satisfied: kiwisolver>=1.0.1 in /usr/local/lib/python3.7/dist-packages (from matplotlib->pycaret) (1.3.1)\n",
            "Requirement already satisfied: python-dateutil>=2.1 in /usr/local/lib/python3.7/dist-packages (from matplotlib->pycaret) (2.8.1)\n",
            "Requirement already satisfied: wheel in /usr/local/lib/python3.7/dist-packages (from lightgbm>=2.3.1->pycaret) (0.36.2)\n",
            "Requirement already satisfied: traitlets>=4.2 in /usr/local/lib/python3.7/dist-packages (from IPython->pycaret) (5.0.5)\n",
            "Requirement already satisfied: pygments in /usr/local/lib/python3.7/dist-packages (from IPython->pycaret) (2.6.1)\n",
            "Requirement already satisfied: simplegeneric>0.8 in /usr/local/lib/python3.7/dist-packages (from IPython->pycaret) (0.8.1)\n",
            "Requirement already satisfied: decorator in /usr/local/lib/python3.7/dist-packages (from IPython->pycaret) (4.4.2)\n",
            "Requirement already satisfied: pexpect; sys_platform != \"win32\" in /usr/local/lib/python3.7/dist-packages (from IPython->pycaret) (4.8.0)\n",
            "Requirement already satisfied: pickleshare in /usr/local/lib/python3.7/dist-packages (from IPython->pycaret) (0.7.5)\n",
            "Requirement already satisfied: prompt-toolkit<2.0.0,>=1.0.4 in /usr/local/lib/python3.7/dist-packages (from IPython->pycaret) (1.0.18)\n",
            "Requirement already satisfied: sqlparse>=0.3.1 in /usr/local/lib/python3.7/dist-packages (from mlflow->pycaret) (0.4.1)\n",
            "Requirement already satisfied: protobuf>=3.6.0 in /usr/local/lib/python3.7/dist-packages (from mlflow->pycaret) (3.12.4)\n",
            "Requirement already satisfied: prometheus-flask-exporter in /usr/local/lib/python3.7/dist-packages (from mlflow->pycaret) (0.18.1)\n",
            "Requirement already satisfied: Flask in /usr/local/lib/python3.7/dist-packages (from mlflow->pycaret) (1.1.2)\n",
            "Requirement already satisfied: databricks-cli>=0.8.7 in /usr/local/lib/python3.7/dist-packages (from mlflow->pycaret) (0.14.3)\n",
            "Requirement already satisfied: sqlalchemy in /usr/local/lib/python3.7/dist-packages (from mlflow->pycaret) (1.4.7)\n",
            "Requirement already satisfied: click>=7.0 in /usr/local/lib/python3.7/dist-packages (from mlflow->pycaret) (7.1.2)\n",
            "Requirement already satisfied: docker>=4.0.0 in /usr/local/lib/python3.7/dist-packages (from mlflow->pycaret) (5.0.0)\n",
            "Requirement already satisfied: querystring-parser in /usr/local/lib/python3.7/dist-packages (from mlflow->pycaret) (1.2.4)\n",
            "Requirement already satisfied: pytz in /usr/local/lib/python3.7/dist-packages (from mlflow->pycaret) (2018.9)\n",
            "Requirement already satisfied: gunicorn; platform_system != \"Windows\" in /usr/local/lib/python3.7/dist-packages (from mlflow->pycaret) (20.1.0)\n",
            "Requirement already satisfied: cloudpickle in /usr/local/lib/python3.7/dist-packages (from mlflow->pycaret) (1.3.0)\n",
            "Requirement already satisfied: alembic<=1.4.1 in /usr/local/lib/python3.7/dist-packages (from mlflow->pycaret) (1.4.1)\n",
            "Requirement already satisfied: pyyaml in /usr/local/lib/python3.7/dist-packages (from mlflow->pycaret) (3.13)\n",
            "Requirement already satisfied: entrypoints in /usr/local/lib/python3.7/dist-packages (from mlflow->pycaret) (0.3)\n",
            "Requirement already satisfied: gitpython>=2.1.0 in /usr/local/lib/python3.7/dist-packages (from mlflow->pycaret) (3.1.14)\n",
            "Requirement already satisfied: nbformat>=4.2.0 in /usr/local/lib/python3.7/dist-packages (from ipywidgets->pycaret) (5.1.3)\n",
            "Requirement already satisfied: widgetsnbextension~=3.5.0 in /usr/local/lib/python3.7/dist-packages (from ipywidgets->pycaret) (3.5.1)\n",
            "Requirement already satisfied: jupyterlab-widgets>=1.0.0; python_version >= \"3.6\" in /usr/local/lib/python3.7/dist-packages (from ipywidgets->pycaret) (1.0.0)\n",
            "Requirement already satisfied: ipykernel>=4.5.1 in /usr/local/lib/python3.7/dist-packages (from ipywidgets->pycaret) (4.10.1)\n",
            "Requirement already satisfied: pillow in /usr/local/lib/python3.7/dist-packages (from wordcloud->pycaret) (7.1.2)\n",
            "Requirement already satisfied: colorlover>=0.2.1 in /usr/local/lib/python3.7/dist-packages (from cufflinks>=0.17.0->pycaret) (0.3.0)\n",
            "Requirement already satisfied: cymem<2.1.0,>=2.0.2 in /usr/local/lib/python3.7/dist-packages (from spacy<2.4.0->pycaret) (2.0.5)\n",
            "Requirement already satisfied: srsly<1.1.0,>=1.0.2 in /usr/local/lib/python3.7/dist-packages (from spacy<2.4.0->pycaret) (1.0.5)\n",
            "Requirement already satisfied: wasabi<1.1.0,>=0.4.0 in /usr/local/lib/python3.7/dist-packages (from spacy<2.4.0->pycaret) (0.8.2)\n",
            "Requirement already satisfied: murmurhash<1.1.0,>=0.28.0 in /usr/local/lib/python3.7/dist-packages (from spacy<2.4.0->pycaret) (1.0.5)\n",
            "Requirement already satisfied: plac<1.2.0,>=0.9.6 in /usr/local/lib/python3.7/dist-packages (from spacy<2.4.0->pycaret) (1.1.3)\n",
            "Requirement already satisfied: preshed<3.1.0,>=3.0.2 in /usr/local/lib/python3.7/dist-packages (from spacy<2.4.0->pycaret) (3.0.5)\n",
            "Requirement already satisfied: blis<0.5.0,>=0.4.0 in /usr/local/lib/python3.7/dist-packages (from spacy<2.4.0->pycaret) (0.4.1)\n",
            "Requirement already satisfied: thinc==7.4.0 in /usr/local/lib/python3.7/dist-packages (from spacy<2.4.0->pycaret) (7.4.0)\n",
            "Requirement already satisfied: catalogue<1.1.0,>=0.0.7 in /usr/local/lib/python3.7/dist-packages (from spacy<2.4.0->pycaret) (1.0.0)\n",
            "Requirement already satisfied: smart-open>=1.2.1 in /usr/local/lib/python3.7/dist-packages (from gensim->pycaret) (5.0.0)\n",
            "Requirement already satisfied: statsmodels in /usr/local/lib/python3.7/dist-packages (from pyod->pycaret) (0.10.2)\n",
            "Requirement already satisfied: MarkupSafe>=0.23 in /usr/local/lib/python3.7/dist-packages (from jinja2->pyLDAvis->pycaret) (1.1.1)\n",
            "Requirement already satisfied: networkx>=2.4 in /usr/local/lib/python3.7/dist-packages (from visions[type_image_path]==0.6.0->pandas-profiling>=2.8.0->pycaret) (2.5.1)\n",
            "Requirement already satisfied: imagehash; extra == \"type_image_path\" in /usr/local/lib/python3.7/dist-packages (from visions[type_image_path]==0.6.0->pandas-profiling>=2.8.0->pycaret) (4.2.0)\n",
            "Requirement already satisfied: certifi>=2017.4.17 in /usr/local/lib/python3.7/dist-packages (from requests>=2.24.0->pandas-profiling>=2.8.0->pycaret) (2020.12.5)\n",
            "Requirement already satisfied: idna<3,>=2.5 in /usr/local/lib/python3.7/dist-packages (from requests>=2.24.0->pandas-profiling>=2.8.0->pycaret) (2.10)\n",
            "Requirement already satisfied: chardet<5,>=3.0.2 in /usr/local/lib/python3.7/dist-packages (from requests>=2.24.0->pandas-profiling>=2.8.0->pycaret) (3.0.4)\n",
            "Requirement already satisfied: urllib3<1.27,>=1.21.1 in /usr/local/lib/python3.7/dist-packages (from requests>=2.24.0->pandas-profiling>=2.8.0->pycaret) (1.24.3)\n",
            "Requirement already satisfied: llvmlite>=0.30 in /usr/local/lib/python3.7/dist-packages (from pynndescent>=0.5->umap-learn->pycaret) (0.34.0)\n",
            "Requirement already satisfied: ipython-genutils in /usr/local/lib/python3.7/dist-packages (from traitlets>=4.2->IPython->pycaret) (0.2.0)\n",
            "Requirement already satisfied: ptyprocess>=0.5 in /usr/local/lib/python3.7/dist-packages (from pexpect; sys_platform != \"win32\"->IPython->pycaret) (0.7.0)\n",
            "Requirement already satisfied: wcwidth in /usr/local/lib/python3.7/dist-packages (from prompt-toolkit<2.0.0,>=1.0.4->IPython->pycaret) (0.2.5)\n",
            "Requirement already satisfied: prometheus-client in /usr/local/lib/python3.7/dist-packages (from prometheus-flask-exporter->mlflow->pycaret) (0.10.1)\n",
            "Requirement already satisfied: Werkzeug>=0.15 in /usr/local/lib/python3.7/dist-packages (from Flask->mlflow->pycaret) (1.0.1)\n",
            "Requirement already satisfied: itsdangerous>=0.24 in /usr/local/lib/python3.7/dist-packages (from Flask->mlflow->pycaret) (1.1.0)\n",
            "Requirement already satisfied: tabulate>=0.7.7 in /usr/local/lib/python3.7/dist-packages (from databricks-cli>=0.8.7->mlflow->pycaret) (0.8.9)\n",
            "Requirement already satisfied: greenlet!=0.4.17; python_version >= \"3\" in /usr/local/lib/python3.7/dist-packages (from sqlalchemy->mlflow->pycaret) (1.0.0)\n",
            "Requirement already satisfied: importlib-metadata; python_version < \"3.8\" in /usr/local/lib/python3.7/dist-packages (from sqlalchemy->mlflow->pycaret) (3.10.1)\n",
            "Requirement already satisfied: websocket-client>=0.32.0 in /usr/local/lib/python3.7/dist-packages (from docker>=4.0.0->mlflow->pycaret) (0.58.0)\n",
            "Requirement already satisfied: Mako in /usr/local/lib/python3.7/dist-packages (from alembic<=1.4.1->mlflow->pycaret) (1.1.4)\n",
            "Requirement already satisfied: python-editor>=0.3 in /usr/local/lib/python3.7/dist-packages (from alembic<=1.4.1->mlflow->pycaret) (1.0.4)\n",
            "Requirement already satisfied: gitdb<5,>=4.0.1 in /usr/local/lib/python3.7/dist-packages (from gitpython>=2.1.0->mlflow->pycaret) (4.0.7)\n",
            "Requirement already satisfied: jupyter-core in /usr/local/lib/python3.7/dist-packages (from nbformat>=4.2.0->ipywidgets->pycaret) (4.7.1)\n",
            "Requirement already satisfied: jsonschema!=2.5.0,>=2.4 in /usr/local/lib/python3.7/dist-packages (from nbformat>=4.2.0->ipywidgets->pycaret) (2.6.0)\n",
            "Requirement already satisfied: notebook>=4.4.1 in /usr/local/lib/python3.7/dist-packages (from widgetsnbextension~=3.5.0->ipywidgets->pycaret) (5.3.1)\n",
            "Requirement already satisfied: tornado>=4.0 in /usr/local/lib/python3.7/dist-packages (from ipykernel>=4.5.1->ipywidgets->pycaret) (5.1.1)\n",
            "Requirement already satisfied: jupyter-client in /usr/local/lib/python3.7/dist-packages (from ipykernel>=4.5.1->ipywidgets->pycaret) (5.3.5)\n",
            "Requirement already satisfied: patsy>=0.4.0 in /usr/local/lib/python3.7/dist-packages (from statsmodels->pyod->pycaret) (0.5.1)\n",
            "Requirement already satisfied: PyWavelets in /usr/local/lib/python3.7/dist-packages (from imagehash; extra == \"type_image_path\"->visions[type_image_path]==0.6.0->pandas-profiling>=2.8.0->pycaret) (1.1.1)\n",
            "Requirement already satisfied: typing-extensions>=3.6.4; python_version < \"3.8\" in /usr/local/lib/python3.7/dist-packages (from importlib-metadata; python_version < \"3.8\"->sqlalchemy->mlflow->pycaret) (3.7.4.3)\n",
            "Requirement already satisfied: zipp>=0.5 in /usr/local/lib/python3.7/dist-packages (from importlib-metadata; python_version < \"3.8\"->sqlalchemy->mlflow->pycaret) (3.4.1)\n",
            "Requirement already satisfied: smmap<5,>=3.0.1 in /usr/local/lib/python3.7/dist-packages (from gitdb<5,>=4.0.1->gitpython>=2.1.0->mlflow->pycaret) (4.0.0)\n",
            "Requirement already satisfied: terminado>=0.8.1 in /usr/local/lib/python3.7/dist-packages (from notebook>=4.4.1->widgetsnbextension~=3.5.0->ipywidgets->pycaret) (0.9.4)\n",
            "Requirement already satisfied: nbconvert in /usr/local/lib/python3.7/dist-packages (from notebook>=4.4.1->widgetsnbextension~=3.5.0->ipywidgets->pycaret) (5.6.1)\n",
            "Requirement already satisfied: Send2Trash in /usr/local/lib/python3.7/dist-packages (from notebook>=4.4.1->widgetsnbextension~=3.5.0->ipywidgets->pycaret) (1.5.0)\n",
            "Requirement already satisfied: pyzmq>=13 in /usr/local/lib/python3.7/dist-packages (from jupyter-client->ipykernel>=4.5.1->ipywidgets->pycaret) (22.0.3)\n",
            "Requirement already satisfied: bleach in /usr/local/lib/python3.7/dist-packages (from nbconvert->notebook>=4.4.1->widgetsnbextension~=3.5.0->ipywidgets->pycaret) (3.3.0)\n",
            "Requirement already satisfied: pandocfilters>=1.4.1 in /usr/local/lib/python3.7/dist-packages (from nbconvert->notebook>=4.4.1->widgetsnbextension~=3.5.0->ipywidgets->pycaret) (1.4.3)\n",
            "Requirement already satisfied: testpath in /usr/local/lib/python3.7/dist-packages (from nbconvert->notebook>=4.4.1->widgetsnbextension~=3.5.0->ipywidgets->pycaret) (0.4.4)\n",
            "Requirement already satisfied: defusedxml in /usr/local/lib/python3.7/dist-packages (from nbconvert->notebook>=4.4.1->widgetsnbextension~=3.5.0->ipywidgets->pycaret) (0.7.1)\n",
            "Requirement already satisfied: mistune<2,>=0.8.1 in /usr/local/lib/python3.7/dist-packages (from nbconvert->notebook>=4.4.1->widgetsnbextension~=3.5.0->ipywidgets->pycaret) (0.8.4)\n",
            "Requirement already satisfied: webencodings in /usr/local/lib/python3.7/dist-packages (from bleach->nbconvert->notebook>=4.4.1->widgetsnbextension~=3.5.0->ipywidgets->pycaret) (0.5.1)\n",
            "Requirement already satisfied: packaging in /usr/local/lib/python3.7/dist-packages (from bleach->nbconvert->notebook>=4.4.1->widgetsnbextension~=3.5.0->ipywidgets->pycaret) (20.9)\n",
            "\u001b[31mERROR: google-colab 1.0.0 has requirement requests~=2.23.0, but you'll have requests 2.25.1 which is incompatible.\u001b[0m\n",
            "\u001b[31mERROR: datascience 0.10.6 has requirement folium==0.2.1, but you'll have folium 0.8.3 which is incompatible.\u001b[0m\n",
            "Installing collected packages: tqdm, requests\n",
            "  Found existing installation: tqdm 4.41.1\n",
            "    Uninstalling tqdm-4.41.1:\n",
            "      Successfully uninstalled tqdm-4.41.1\n",
            "  Found existing installation: requests 2.23.0\n",
            "    Uninstalling requests-2.23.0:\n",
            "      Successfully uninstalled requests-2.23.0\n",
            "Successfully installed requests-2.25.1 tqdm-4.60.0\n"
          ],
          "name": "stdout"
        }
      ]
    },
    {
      "cell_type": "markdown",
      "metadata": {
        "id": "EemVXAcr9_Jj"
      },
      "source": [
        "## Importing the necessary Packages"
      ]
    },
    {
      "cell_type": "code",
      "metadata": {
        "id": "0yerLkAxovj-"
      },
      "source": [
        "import pandas as pd\n",
        "import numpy as np\n",
        "from scipy import stats\n",
        "from scipy.stats import norm, skew\n",
        "from scipy.special import boxcox1p\n",
        "from pycaret.regression import *"
      ],
      "execution_count": null,
      "outputs": []
    },
    {
      "cell_type": "markdown",
      "metadata": {
        "id": "YXkEM4E4-Kid"
      },
      "source": [
        "## Gathering the Data"
      ]
    },
    {
      "cell_type": "code",
      "metadata": {
        "id": "nfkW2S49osPi"
      },
      "source": [
        "train = pd.read_csv('https://raw.githubusercontent.com/hrshah211/HousePriceKaggle/main/train.csv')\n",
        "test = pd.read_csv('https://raw.githubusercontent.com/hrshah211/HousePriceKaggle/main/test.csv')"
      ],
      "execution_count": null,
      "outputs": []
    },
    {
      "cell_type": "markdown",
      "metadata": {
        "id": "X8Z9HmD0-NdK"
      },
      "source": [
        "# Removing the Outliers"
      ]
    },
    {
      "cell_type": "code",
      "metadata": {
        "id": "MAHTKu_OpAk0"
      },
      "source": [
        "train = train.drop(train[(train['GrLivArea']>4000) & (train['SalePrice']<300000)].index)\n",
        "train = train[train['SalePrice'] < 450000]\n",
        "train = train[train['GarageArea'] < 1200]\n",
        "train = train[train['LotFrontage'] < 154] \n",
        "train = train[train['LotArea'] < 70765] \n",
        "train = train[train['MasVnrArea'] < 1500]\n",
        "train = train[train['BsmtFinSF1'] < 2000] \n",
        "train = train[train['GrLivArea'] < 4000] "
      ],
      "execution_count": null,
      "outputs": []
    },
    {
      "cell_type": "markdown",
      "metadata": {
        "id": "V6ZxzgtJ-Rmf"
      },
      "source": [
        "# Transforming the Target Column to remove the Skewness"
      ]
    },
    {
      "cell_type": "code",
      "metadata": {
        "id": "KCC5rj9SpDiV"
      },
      "source": [
        "train[\"SalePrice\"] = np.log(train[\"SalePrice\"])"
      ],
      "execution_count": null,
      "outputs": []
    },
    {
      "cell_type": "markdown",
      "metadata": {
        "id": "GOUgJRALAO1d"
      },
      "source": [
        "# Checking Null / Empty columns in Train and Test set"
      ]
    },
    {
      "cell_type": "code",
      "metadata": {
        "colab": {
          "base_uri": "https://localhost:8080/"
        },
        "id": "sIB98hiZAO1z",
        "outputId": "db48121d-c2f8-4202-a561-ba7e98effb0d"
      },
      "source": [
        "null_columns=train.columns[train.isnull().any()]\n",
        "train[null_columns].isnull().sum()"
      ],
      "execution_count": null,
      "outputs": [
        {
          "output_type": "execute_result",
          "data": {
            "text/plain": [
              "Alley           1087\n",
              "BsmtQual          31\n",
              "BsmtCond          31\n",
              "BsmtExposure      32\n",
              "BsmtFinType1      31\n",
              "BsmtFinType2      32\n",
              "Electrical         1\n",
              "FireplaceQu      595\n",
              "GarageType        74\n",
              "GarageYrBlt       74\n",
              "GarageFinish      74\n",
              "GarageQual        74\n",
              "GarageCond        74\n",
              "PoolQC          1168\n",
              "Fence            946\n",
              "MiscFeature     1133\n",
              "dtype: int64"
            ]
          },
          "metadata": {
            "tags": []
          },
          "execution_count": 6
        }
      ]
    },
    {
      "cell_type": "code",
      "metadata": {
        "colab": {
          "base_uri": "https://localhost:8080/"
        },
        "id": "ReUapN33AO10",
        "outputId": "21eccb1d-7cff-4545-9df1-55f5308c9db7"
      },
      "source": [
        "null_columns=test.columns[test.isnull().any()]\n",
        "test[null_columns].isnull().sum()"
      ],
      "execution_count": null,
      "outputs": [
        {
          "output_type": "execute_result",
          "data": {
            "text/plain": [
              "MSZoning           4\n",
              "LotFrontage      227\n",
              "Alley           1352\n",
              "Utilities          2\n",
              "Exterior1st        1\n",
              "Exterior2nd        1\n",
              "MasVnrType        16\n",
              "MasVnrArea        15\n",
              "BsmtQual          44\n",
              "BsmtCond          45\n",
              "BsmtExposure      44\n",
              "BsmtFinType1      42\n",
              "BsmtFinSF1         1\n",
              "BsmtFinType2      42\n",
              "BsmtFinSF2         1\n",
              "BsmtUnfSF          1\n",
              "TotalBsmtSF        1\n",
              "BsmtFullBath       2\n",
              "BsmtHalfBath       2\n",
              "KitchenQual        1\n",
              "Functional         2\n",
              "FireplaceQu      730\n",
              "GarageType        76\n",
              "GarageYrBlt       78\n",
              "GarageFinish      78\n",
              "GarageCars         1\n",
              "GarageArea         1\n",
              "GarageQual        78\n",
              "GarageCond        78\n",
              "PoolQC          1456\n",
              "Fence           1169\n",
              "MiscFeature     1408\n",
              "SaleType           1\n",
              "dtype: int64"
            ]
          },
          "metadata": {
            "tags": []
          },
          "execution_count": 7
        }
      ]
    },
    {
      "cell_type": "markdown",
      "metadata": {
        "id": "OaNSJ7X2-XjC"
      },
      "source": [
        "# ReplaceNA method to remove the NA categorical fields to their respective reasons"
      ]
    },
    {
      "cell_type": "code",
      "metadata": {
        "id": "XsuYUh8wpJNI"
      },
      "source": [
        "def ReplaceNA(dataset):\n",
        "\n",
        "  dataset['Alley'] = dataset['Alley'].apply(lambda x : 'No Alley' if pd.isnull(x) else x)\n",
        "  dataset['BsmtQual'] = dataset['BsmtQual'].apply(lambda x : 'No Basement' if pd.isnull(x) else x)\n",
        "  dataset['BsmtCond'] = dataset['BsmtCond'].apply(lambda x : 'No Basement' if pd.isnull(x) else x)\n",
        "  dataset['BsmtExposure'] = dataset['BsmtExposure'].apply(lambda x : 'No Basement' if pd.isnull(x) else x)\n",
        "  dataset['BsmtFinType1'] = dataset['BsmtFinType1'].apply(lambda x : 'No Basement' if pd.isnull(x) else x)\n",
        "  dataset['BsmtFinType2'] = dataset['BsmtFinType2'].apply(lambda x : 'No Basement' if pd.isnull(x) else x)\n",
        "  dataset['FireplaceQu'] = dataset['FireplaceQu'].apply(lambda x : 'No Fireplace' if pd.isnull(x) else x)\n",
        "  dataset['GarageType'] = dataset['GarageType'].apply(lambda x : 'No Garage' if pd.isnull(x) else x)\n",
        "  dataset['GarageFinish'] = dataset['GarageFinish'].apply(lambda x : 'No Garage' if pd.isnull(x) else x)\n",
        "  dataset['GarageQual'] = dataset['GarageQual'].apply(lambda x : 'No Garage' if pd.isnull(x) else x)\n",
        "  dataset['GarageCond'] = dataset['GarageCond'].apply(lambda x : 'No Garage' if pd.isnull(x) else x)\n",
        "  dataset['PoolQC'] = dataset['PoolQC'].apply(lambda x : 'No Pool' if pd.isnull(x) else x)\n",
        "  dataset['Fence'] = dataset['Fence'].apply(lambda x : 'No Fence' if pd.isnull(x) else x)\n",
        "  dataset['MiscFeature'] = dataset['MiscFeature'].apply(lambda x : 'None' if pd.isnull(x) else x)\n",
        "  \n",
        "  return dataset"
      ],
      "execution_count": null,
      "outputs": []
    },
    {
      "cell_type": "markdown",
      "metadata": {
        "id": "cJPCnwox-gkg"
      },
      "source": [
        "# FillNA method to fill Missing Data"
      ]
    },
    {
      "cell_type": "code",
      "metadata": {
        "id": "ezsriyhrsd1e"
      },
      "source": [
        "def FillNA(dataset):\n",
        "\n",
        "  dataset['LotFrontage'] = dataset.groupby('Neighborhood')['LotFrontage'].transform(lambda x: x.fillna(x.median()))\n",
        "  dataset['MSZoning'] = dataset.groupby('MSSubClass')['MSZoning'].transform(lambda x: x.fillna(x.mode()[0]))\n",
        "\n",
        "  dataset['Electrical'] = dataset['Electrical'].fillna(dataset['Electrical'].mode()[0])\n",
        "  dataset['KitchenQual'] = dataset['KitchenQual'].fillna(dataset['KitchenQual'].mode()[0])\n",
        "  dataset['Exterior1st'] = dataset['Exterior1st'].fillna(dataset['Exterior1st'].mode()[0])\n",
        "  dataset['Exterior2nd'] = dataset['Exterior2nd'].fillna(dataset['Exterior2nd'].mode()[0])\n",
        "  dataset['SaleType'] = dataset['SaleType'].fillna(dataset['SaleType'].mode()[0])\n",
        "  dataset['Utilities'] = dataset['Utilities'].fillna(dataset['Utilities'].mode()[0])\n",
        "\n",
        "  dataset[\"Functional\"] = dataset[\"Functional\"].fillna(\"Typ\")\n",
        "\n",
        "  dataset['GarageYrBlt'] = dataset['GarageYrBlt'].fillna(0)\n",
        "  dataset['GarageArea'] = dataset['GarageArea'].fillna(0)\n",
        "  dataset['GarageCars'] = dataset['GarageCars'].fillna(0)\n",
        "  dataset['MasVnrArea'] = dataset['MasVnrArea'].fillna(0)\n",
        "  dataset['BsmtFinSF1'] = dataset['BsmtFinSF1'].fillna(0)\n",
        "  dataset['BsmtFinSF2'] = dataset['BsmtFinSF2'].fillna(0)\n",
        "  dataset['BsmtUnfSF'] = dataset['BsmtUnfSF'].fillna(0)\n",
        "  dataset['TotalBsmtSF'] = dataset['TotalBsmtSF'].fillna(0)\n",
        "  dataset['BsmtFullBath'] = dataset['BsmtFullBath'].fillna(0)\n",
        "  dataset['BsmtHalfBath'] = dataset['BsmtHalfBath'].fillna(0)\n",
        "  dataset['MasVnrType'] = dataset['MasVnrType'].fillna('None')        \n",
        "\n",
        "  return dataset"
      ],
      "execution_count": null,
      "outputs": []
    },
    {
      "cell_type": "markdown",
      "metadata": {
        "id": "QzY-PXeL-l4F"
      },
      "source": [
        "# RemoveSkewness method to remove the Skewness in the Features"
      ]
    },
    {
      "cell_type": "code",
      "metadata": {
        "id": "HCC7D_Vxyqjr"
      },
      "source": [
        "def RemoveSkewness(dataset):\n",
        "  numeric_feats = dataset.dtypes[dataset.dtypes != \"object\"].index\n",
        "\n",
        "  skewed_feats = dataset[numeric_feats].apply(lambda x: skew(x.dropna())).sort_values(ascending=False)\n",
        "  skewness = pd.DataFrame({'Skew' :skewed_feats})\n",
        "  skewness = skewness[abs(skewness) > 0.75]\n",
        "\n",
        "  \n",
        "  skewed_features = skewness.index\n",
        "  lam = 0.15\n",
        "  for feat in skewed_features:\n",
        "    if(feat is not 'SalePrice'):\n",
        "      dataset[feat] = boxcox1p(dataset[feat], lam)\n",
        "\n",
        "  return dataset"
      ],
      "execution_count": null,
      "outputs": []
    },
    {
      "cell_type": "markdown",
      "metadata": {
        "id": "lzWH1Akc-sq5"
      },
      "source": [
        "# CreateNewColumns method to create additional Features "
      ]
    },
    {
      "cell_type": "code",
      "metadata": {
        "id": "xfAvx6BOVOaz"
      },
      "source": [
        "def CreateNewColumns(dataset):\n",
        "  \n",
        "  dataset['TotalArea'] = dataset['BsmtFinSF1'] + dataset['BsmtFinSF2'] + dataset['1stFlrSF'] + dataset['2ndFlrSF']\n",
        "  dataset['TotalBathrooms'] = dataset['FullBath'] + (0.5*dataset['HalfBath']) + dataset['BsmtFullBath'] + (0.5*dataset['BsmtHalfBath'])\n",
        "  dataset['TotalOutsideArea'] = dataset['OpenPorchSF'] + dataset['3SsnPorch'] + dataset['EnclosedPorch'] + dataset['ScreenPorch'] + dataset['WoodDeckSF']\n",
        "  dataset['HasPool'] = dataset['PoolArea'].apply(lambda x: 1 if x > 0 else 0)\n",
        "  dataset['Has2Floor'] = dataset['2ndFlrSF'].apply(lambda x: 1 if x > 0 else 0)\n",
        "  dataset['HasGarage'] = dataset['GarageArea'].apply(lambda x: 1 if x > 0 else 0)\n",
        "  dataset['HasBasement'] = dataset['TotalBsmtSF'].apply(lambda x: 1 if x > 0 else 0)\n",
        "  dataset['HasFireplace'] = dataset['Fireplaces'].apply(lambda x: 1 if x > 0 else 0)\n",
        "\n",
        "  return dataset\n"
      ],
      "execution_count": null,
      "outputs": []
    },
    {
      "cell_type": "markdown",
      "metadata": {
        "id": "oD2zYb4Z-5GC"
      },
      "source": [
        "# PreProcessing method to call the defined Pre-Processing Methods"
      ]
    },
    {
      "cell_type": "code",
      "metadata": {
        "id": "OoTZJxjHuNKV"
      },
      "source": [
        "def PreProcessing(dataset):\n",
        "\n",
        "  dataset = ReplaceNA(dataset)\n",
        "  dataset = FillNA(dataset)\n",
        "  dataset = RemoveSkewness(dataset)\n",
        "  dataset = CreateNewColumns(dataset)\n",
        "\n",
        "  return dataset"
      ],
      "execution_count": null,
      "outputs": []
    },
    {
      "cell_type": "markdown",
      "metadata": {
        "id": "pwgHB12B_DOu"
      },
      "source": [
        "# Removing the SalePrice and Id columns"
      ]
    },
    {
      "cell_type": "code",
      "metadata": {
        "id": "WUnCZpRw1W_Y"
      },
      "source": [
        "trainSalePrice = train['SalePrice']\n",
        "trainId = train['Id']\n",
        "train = train.drop(['SalePrice','Id'], axis=1)\n",
        "testId = test['Id']\n",
        "test = test.drop('Id', axis=1)"
      ],
      "execution_count": null,
      "outputs": []
    },
    {
      "cell_type": "markdown",
      "metadata": {
        "id": "t8redKNV_H9l"
      },
      "source": [
        "# Applying PreProcessing on both the Train and Test Data"
      ]
    },
    {
      "cell_type": "code",
      "metadata": {
        "id": "5WXQvpezuW15"
      },
      "source": [
        "train = PreProcessing(train)\n",
        "test = PreProcessing(test)"
      ],
      "execution_count": null,
      "outputs": []
    },
    {
      "cell_type": "markdown",
      "metadata": {
        "id": "kwQZzL5S_Mt_"
      },
      "source": [
        "# Restoring the SalePrice and Id columns"
      ]
    },
    {
      "cell_type": "code",
      "metadata": {
        "id": "EPWwCLtY1qK2"
      },
      "source": [
        "train['SalePrice'] = trainSalePrice\n",
        "train['Id'] = trainId\n",
        "test['Id'] = testId"
      ],
      "execution_count": null,
      "outputs": []
    },
    {
      "cell_type": "markdown",
      "metadata": {
        "id": "dYJYNie5_QuE"
      },
      "source": [
        "# Checking Null / Empty columns in Train and Test set After Pre Procssing"
      ]
    },
    {
      "cell_type": "code",
      "metadata": {
        "colab": {
          "base_uri": "https://localhost:8080/"
        },
        "id": "TPSNxeofUPaa",
        "outputId": "893497a1-f0d9-4d3f-e5f5-666d2ef6d7e3"
      },
      "source": [
        "null_columns=train.columns[train.isnull().any()]\n",
        "train[null_columns].isnull().sum()"
      ],
      "execution_count": null,
      "outputs": [
        {
          "output_type": "execute_result",
          "data": {
            "text/plain": [
              "Series([], dtype: float64)"
            ]
          },
          "metadata": {
            "tags": []
          },
          "execution_count": 16
        }
      ]
    },
    {
      "cell_type": "code",
      "metadata": {
        "colab": {
          "base_uri": "https://localhost:8080/"
        },
        "id": "EEHiWE89UTNo",
        "outputId": "0722e120-a8e1-4370-8c8c-24d90bac6981"
      },
      "source": [
        "null_columns=test.columns[test.isnull().any()]\n",
        "test[null_columns].isnull().sum()"
      ],
      "execution_count": null,
      "outputs": [
        {
          "output_type": "execute_result",
          "data": {
            "text/plain": [
              "Series([], dtype: float64)"
            ]
          },
          "metadata": {
            "tags": []
          },
          "execution_count": 17
        }
      ]
    },
    {
      "cell_type": "markdown",
      "metadata": {
        "id": "FnFZIkSu_XhX"
      },
      "source": [
        "# PyCaret Setup "
      ]
    },
    {
      "cell_type": "code",
      "metadata": {
        "id": "Tte-rCEGuhRc",
        "colab": {
          "base_uri": "https://localhost:8080/",
          "height": 1000,
          "referenced_widgets": [
            "f723db17a61e4d8eb3a63862b556cdcd",
            "519926fd8b5644f1a0adfecf8d304ff2",
            "8ffc351c15714e1a872edb750c356906",
            "07571925f1dd4924b4a7e89442287e0d",
            "6da5650cad344be583c9f07660fccdb7",
            "747ab02a38de44c1a651523fac1e87b3"
          ]
        },
        "outputId": "b3e184dd-f4d0-4f16-d5fe-655bf30a9688"
      },
      "source": [
        "setup = setup(train,\n",
        "              session_id = 404,\n",
        "              target = 'SalePrice',\n",
        "              normalize  = True,\n",
        "              transformation  = True,\n",
        "              ignore_features = ['Id','Utilities'])"
      ],
      "execution_count": null,
      "outputs": [
        {
          "output_type": "display_data",
          "data": {
            "text/html": [
              "<div>\n",
              "<style scoped>\n",
              "    .dataframe tbody tr th:only-of-type {\n",
              "        vertical-align: middle;\n",
              "    }\n",
              "\n",
              "    .dataframe tbody tr th {\n",
              "        vertical-align: top;\n",
              "    }\n",
              "\n",
              "    .dataframe thead th {\n",
              "        text-align: right;\n",
              "    }\n",
              "</style>\n",
              "<table border=\"1\" class=\"dataframe\">\n",
              "  <thead>\n",
              "    <tr style=\"text-align: right;\">\n",
              "      <th></th>\n",
              "      <th>Description</th>\n",
              "      <th>Value</th>\n",
              "    </tr>\n",
              "  </thead>\n",
              "  <tbody>\n",
              "    <tr>\n",
              "      <th>0</th>\n",
              "      <td>session_id</td>\n",
              "      <td>404</td>\n",
              "    </tr>\n",
              "    <tr>\n",
              "      <th>1</th>\n",
              "      <td>Target</td>\n",
              "      <td>SalePrice</td>\n",
              "    </tr>\n",
              "    <tr>\n",
              "      <th>2</th>\n",
              "      <td>Original Data</td>\n",
              "      <td>(1171, 89)</td>\n",
              "    </tr>\n",
              "    <tr>\n",
              "      <th>3</th>\n",
              "      <td>Missing Values</td>\n",
              "      <td>False</td>\n",
              "    </tr>\n",
              "    <tr>\n",
              "      <th>4</th>\n",
              "      <td>Numeric Features</td>\n",
              "      <td>39</td>\n",
              "    </tr>\n",
              "    <tr>\n",
              "      <th>5</th>\n",
              "      <td>Categorical Features</td>\n",
              "      <td>47</td>\n",
              "    </tr>\n",
              "    <tr>\n",
              "      <th>6</th>\n",
              "      <td>Ordinal Features</td>\n",
              "      <td>False</td>\n",
              "    </tr>\n",
              "    <tr>\n",
              "      <th>7</th>\n",
              "      <td>High Cardinality Features</td>\n",
              "      <td>False</td>\n",
              "    </tr>\n",
              "    <tr>\n",
              "      <th>8</th>\n",
              "      <td>High Cardinality Method</td>\n",
              "      <td>None</td>\n",
              "    </tr>\n",
              "    <tr>\n",
              "      <th>9</th>\n",
              "      <td>Transformed Train Set</td>\n",
              "      <td>(819, 267)</td>\n",
              "    </tr>\n",
              "    <tr>\n",
              "      <th>10</th>\n",
              "      <td>Transformed Test Set</td>\n",
              "      <td>(352, 267)</td>\n",
              "    </tr>\n",
              "    <tr>\n",
              "      <th>11</th>\n",
              "      <td>Shuffle Train-Test</td>\n",
              "      <td>True</td>\n",
              "    </tr>\n",
              "    <tr>\n",
              "      <th>12</th>\n",
              "      <td>Stratify Train-Test</td>\n",
              "      <td>False</td>\n",
              "    </tr>\n",
              "    <tr>\n",
              "      <th>13</th>\n",
              "      <td>Fold Generator</td>\n",
              "      <td>KFold</td>\n",
              "    </tr>\n",
              "    <tr>\n",
              "      <th>14</th>\n",
              "      <td>Fold Number</td>\n",
              "      <td>10</td>\n",
              "    </tr>\n",
              "    <tr>\n",
              "      <th>15</th>\n",
              "      <td>CPU Jobs</td>\n",
              "      <td>-1</td>\n",
              "    </tr>\n",
              "    <tr>\n",
              "      <th>16</th>\n",
              "      <td>Use GPU</td>\n",
              "      <td>False</td>\n",
              "    </tr>\n",
              "    <tr>\n",
              "      <th>17</th>\n",
              "      <td>Log Experiment</td>\n",
              "      <td>False</td>\n",
              "    </tr>\n",
              "    <tr>\n",
              "      <th>18</th>\n",
              "      <td>Experiment Name</td>\n",
              "      <td>reg-default-name</td>\n",
              "    </tr>\n",
              "    <tr>\n",
              "      <th>19</th>\n",
              "      <td>USI</td>\n",
              "      <td>9af3</td>\n",
              "    </tr>\n",
              "    <tr>\n",
              "      <th>20</th>\n",
              "      <td>Imputation Type</td>\n",
              "      <td>simple</td>\n",
              "    </tr>\n",
              "    <tr>\n",
              "      <th>21</th>\n",
              "      <td>Iterative Imputation Iteration</td>\n",
              "      <td>None</td>\n",
              "    </tr>\n",
              "    <tr>\n",
              "      <th>22</th>\n",
              "      <td>Numeric Imputer</td>\n",
              "      <td>mean</td>\n",
              "    </tr>\n",
              "    <tr>\n",
              "      <th>23</th>\n",
              "      <td>Iterative Imputation Numeric Model</td>\n",
              "      <td>None</td>\n",
              "    </tr>\n",
              "    <tr>\n",
              "      <th>24</th>\n",
              "      <td>Categorical Imputer</td>\n",
              "      <td>constant</td>\n",
              "    </tr>\n",
              "    <tr>\n",
              "      <th>25</th>\n",
              "      <td>Iterative Imputation Categorical Model</td>\n",
              "      <td>None</td>\n",
              "    </tr>\n",
              "    <tr>\n",
              "      <th>26</th>\n",
              "      <td>Unknown Categoricals Handling</td>\n",
              "      <td>least_frequent</td>\n",
              "    </tr>\n",
              "    <tr>\n",
              "      <th>27</th>\n",
              "      <td>Normalize</td>\n",
              "      <td>True</td>\n",
              "    </tr>\n",
              "    <tr>\n",
              "      <th>28</th>\n",
              "      <td>Normalize Method</td>\n",
              "      <td>zscore</td>\n",
              "    </tr>\n",
              "    <tr>\n",
              "      <th>29</th>\n",
              "      <td>Transformation</td>\n",
              "      <td>True</td>\n",
              "    </tr>\n",
              "    <tr>\n",
              "      <th>30</th>\n",
              "      <td>Transformation Method</td>\n",
              "      <td>yeo-johnson</td>\n",
              "    </tr>\n",
              "    <tr>\n",
              "      <th>31</th>\n",
              "      <td>PCA</td>\n",
              "      <td>False</td>\n",
              "    </tr>\n",
              "    <tr>\n",
              "      <th>32</th>\n",
              "      <td>PCA Method</td>\n",
              "      <td>None</td>\n",
              "    </tr>\n",
              "    <tr>\n",
              "      <th>33</th>\n",
              "      <td>PCA Components</td>\n",
              "      <td>None</td>\n",
              "    </tr>\n",
              "    <tr>\n",
              "      <th>34</th>\n",
              "      <td>Ignore Low Variance</td>\n",
              "      <td>False</td>\n",
              "    </tr>\n",
              "    <tr>\n",
              "      <th>35</th>\n",
              "      <td>Combine Rare Levels</td>\n",
              "      <td>False</td>\n",
              "    </tr>\n",
              "    <tr>\n",
              "      <th>36</th>\n",
              "      <td>Rare Level Threshold</td>\n",
              "      <td>None</td>\n",
              "    </tr>\n",
              "    <tr>\n",
              "      <th>37</th>\n",
              "      <td>Numeric Binning</td>\n",
              "      <td>False</td>\n",
              "    </tr>\n",
              "    <tr>\n",
              "      <th>38</th>\n",
              "      <td>Remove Outliers</td>\n",
              "      <td>False</td>\n",
              "    </tr>\n",
              "    <tr>\n",
              "      <th>39</th>\n",
              "      <td>Outliers Threshold</td>\n",
              "      <td>None</td>\n",
              "    </tr>\n",
              "    <tr>\n",
              "      <th>40</th>\n",
              "      <td>Remove Multicollinearity</td>\n",
              "      <td>False</td>\n",
              "    </tr>\n",
              "    <tr>\n",
              "      <th>41</th>\n",
              "      <td>Multicollinearity Threshold</td>\n",
              "      <td>None</td>\n",
              "    </tr>\n",
              "    <tr>\n",
              "      <th>42</th>\n",
              "      <td>Clustering</td>\n",
              "      <td>False</td>\n",
              "    </tr>\n",
              "    <tr>\n",
              "      <th>43</th>\n",
              "      <td>Clustering Iteration</td>\n",
              "      <td>None</td>\n",
              "    </tr>\n",
              "    <tr>\n",
              "      <th>44</th>\n",
              "      <td>Polynomial Features</td>\n",
              "      <td>False</td>\n",
              "    </tr>\n",
              "    <tr>\n",
              "      <th>45</th>\n",
              "      <td>Polynomial Degree</td>\n",
              "      <td>None</td>\n",
              "    </tr>\n",
              "    <tr>\n",
              "      <th>46</th>\n",
              "      <td>Trignometry Features</td>\n",
              "      <td>False</td>\n",
              "    </tr>\n",
              "    <tr>\n",
              "      <th>47</th>\n",
              "      <td>Polynomial Threshold</td>\n",
              "      <td>None</td>\n",
              "    </tr>\n",
              "    <tr>\n",
              "      <th>48</th>\n",
              "      <td>Group Features</td>\n",
              "      <td>False</td>\n",
              "    </tr>\n",
              "    <tr>\n",
              "      <th>49</th>\n",
              "      <td>Feature Selection</td>\n",
              "      <td>False</td>\n",
              "    </tr>\n",
              "    <tr>\n",
              "      <th>50</th>\n",
              "      <td>Feature Selection Method</td>\n",
              "      <td>classic</td>\n",
              "    </tr>\n",
              "    <tr>\n",
              "      <th>51</th>\n",
              "      <td>Features Selection Threshold</td>\n",
              "      <td>None</td>\n",
              "    </tr>\n",
              "    <tr>\n",
              "      <th>52</th>\n",
              "      <td>Feature Interaction</td>\n",
              "      <td>False</td>\n",
              "    </tr>\n",
              "    <tr>\n",
              "      <th>53</th>\n",
              "      <td>Feature Ratio</td>\n",
              "      <td>False</td>\n",
              "    </tr>\n",
              "    <tr>\n",
              "      <th>54</th>\n",
              "      <td>Interaction Threshold</td>\n",
              "      <td>None</td>\n",
              "    </tr>\n",
              "    <tr>\n",
              "      <th>55</th>\n",
              "      <td>Transform Target</td>\n",
              "      <td>False</td>\n",
              "    </tr>\n",
              "    <tr>\n",
              "      <th>56</th>\n",
              "      <td>Transform Target Method</td>\n",
              "      <td>box-cox</td>\n",
              "    </tr>\n",
              "  </tbody>\n",
              "</table>\n",
              "</div>"
            ],
            "text/plain": [
              "                               Description             Value\n",
              "0                               session_id               404\n",
              "1                                   Target         SalePrice\n",
              "2                            Original Data        (1171, 89)\n",
              "3                           Missing Values             False\n",
              "4                         Numeric Features                39\n",
              "5                     Categorical Features                47\n",
              "6                         Ordinal Features             False\n",
              "7                High Cardinality Features             False\n",
              "8                  High Cardinality Method              None\n",
              "9                    Transformed Train Set        (819, 267)\n",
              "10                    Transformed Test Set        (352, 267)\n",
              "11                      Shuffle Train-Test              True\n",
              "12                     Stratify Train-Test             False\n",
              "13                          Fold Generator             KFold\n",
              "14                             Fold Number                10\n",
              "15                                CPU Jobs                -1\n",
              "16                                 Use GPU             False\n",
              "17                          Log Experiment             False\n",
              "18                         Experiment Name  reg-default-name\n",
              "19                                     USI              9af3\n",
              "20                         Imputation Type            simple\n",
              "21          Iterative Imputation Iteration              None\n",
              "22                         Numeric Imputer              mean\n",
              "23      Iterative Imputation Numeric Model              None\n",
              "24                     Categorical Imputer          constant\n",
              "25  Iterative Imputation Categorical Model              None\n",
              "26           Unknown Categoricals Handling    least_frequent\n",
              "27                               Normalize              True\n",
              "28                        Normalize Method            zscore\n",
              "29                          Transformation              True\n",
              "30                   Transformation Method       yeo-johnson\n",
              "31                                     PCA             False\n",
              "32                              PCA Method              None\n",
              "33                          PCA Components              None\n",
              "34                     Ignore Low Variance             False\n",
              "35                     Combine Rare Levels             False\n",
              "36                    Rare Level Threshold              None\n",
              "37                         Numeric Binning             False\n",
              "38                         Remove Outliers             False\n",
              "39                      Outliers Threshold              None\n",
              "40                Remove Multicollinearity             False\n",
              "41             Multicollinearity Threshold              None\n",
              "42                              Clustering             False\n",
              "43                    Clustering Iteration              None\n",
              "44                     Polynomial Features             False\n",
              "45                       Polynomial Degree              None\n",
              "46                    Trignometry Features             False\n",
              "47                    Polynomial Threshold              None\n",
              "48                          Group Features             False\n",
              "49                       Feature Selection             False\n",
              "50                Feature Selection Method           classic\n",
              "51            Features Selection Threshold              None\n",
              "52                     Feature Interaction             False\n",
              "53                           Feature Ratio             False\n",
              "54                   Interaction Threshold              None\n",
              "55                        Transform Target             False\n",
              "56                 Transform Target Method           box-cox"
            ]
          },
          "metadata": {
            "tags": []
          }
        }
      ]
    },
    {
      "cell_type": "markdown",
      "metadata": {
        "id": "fS56Z9JR_cQS"
      },
      "source": [
        "# Compare the models and selecting the Best"
      ]
    },
    {
      "cell_type": "code",
      "metadata": {
        "colab": {
          "base_uri": "https://localhost:8080/",
          "height": 527,
          "referenced_widgets": [
            "f0139becc7504e76baa4d0493647c61f",
            "bf375f17af924446ab341c7486fbd2d1",
            "76a3cfad5c224005844788eb6a9cd9de"
          ]
        },
        "id": "FrEad1v2v2L9",
        "outputId": "8aa322f8-f528-4678-c18b-5d6b84651eb3"
      },
      "source": [
        "best = compare_models()"
      ],
      "execution_count": null,
      "outputs": [
        {
          "output_type": "display_data",
          "data": {
            "text/html": [
              "<div>\n",
              "<style scoped>\n",
              "    .dataframe tbody tr th:only-of-type {\n",
              "        vertical-align: middle;\n",
              "    }\n",
              "\n",
              "    .dataframe tbody tr th {\n",
              "        vertical-align: top;\n",
              "    }\n",
              "\n",
              "    .dataframe thead th {\n",
              "        text-align: right;\n",
              "    }\n",
              "</style>\n",
              "<table border=\"1\" class=\"dataframe\">\n",
              "  <thead>\n",
              "    <tr style=\"text-align: right;\">\n",
              "      <th></th>\n",
              "      <th>Model</th>\n",
              "      <th>MAE</th>\n",
              "      <th>MSE</th>\n",
              "      <th>RMSE</th>\n",
              "      <th>R2</th>\n",
              "      <th>RMSLE</th>\n",
              "      <th>MAPE</th>\n",
              "      <th>TT (Sec)</th>\n",
              "    </tr>\n",
              "  </thead>\n",
              "  <tbody>\n",
              "    <tr>\n",
              "      <th>br</th>\n",
              "      <td>Bayesian Ridge</td>\n",
              "      <td>0.0773</td>\n",
              "      <td>0.0124</td>\n",
              "      <td>0.1100</td>\n",
              "      <td>0.9226</td>\n",
              "      <td>0.0087</td>\n",
              "      <td>0.0065</td>\n",
              "      <td>0.085</td>\n",
              "    </tr>\n",
              "    <tr>\n",
              "      <th>ridge</th>\n",
              "      <td>Ridge Regression</td>\n",
              "      <td>0.0808</td>\n",
              "      <td>0.0131</td>\n",
              "      <td>0.1135</td>\n",
              "      <td>0.9178</td>\n",
              "      <td>0.0089</td>\n",
              "      <td>0.0068</td>\n",
              "      <td>0.026</td>\n",
              "    </tr>\n",
              "    <tr>\n",
              "      <th>omp</th>\n",
              "      <td>Orthogonal Matching Pursuit</td>\n",
              "      <td>0.0881</td>\n",
              "      <td>0.0152</td>\n",
              "      <td>0.1222</td>\n",
              "      <td>0.9054</td>\n",
              "      <td>0.0096</td>\n",
              "      <td>0.0074</td>\n",
              "      <td>0.026</td>\n",
              "    </tr>\n",
              "    <tr>\n",
              "      <th>gbr</th>\n",
              "      <td>Gradient Boosting Regressor</td>\n",
              "      <td>0.0869</td>\n",
              "      <td>0.0154</td>\n",
              "      <td>0.1234</td>\n",
              "      <td>0.9036</td>\n",
              "      <td>0.0097</td>\n",
              "      <td>0.0073</td>\n",
              "      <td>0.463</td>\n",
              "    </tr>\n",
              "    <tr>\n",
              "      <th>lightgbm</th>\n",
              "      <td>Light Gradient Boosting Machine</td>\n",
              "      <td>0.0922</td>\n",
              "      <td>0.0174</td>\n",
              "      <td>0.1312</td>\n",
              "      <td>0.8918</td>\n",
              "      <td>0.0103</td>\n",
              "      <td>0.0078</td>\n",
              "      <td>0.216</td>\n",
              "    </tr>\n",
              "    <tr>\n",
              "      <th>et</th>\n",
              "      <td>Extra Trees Regressor</td>\n",
              "      <td>0.0976</td>\n",
              "      <td>0.0195</td>\n",
              "      <td>0.1386</td>\n",
              "      <td>0.8770</td>\n",
              "      <td>0.0109</td>\n",
              "      <td>0.0082</td>\n",
              "      <td>1.595</td>\n",
              "    </tr>\n",
              "    <tr>\n",
              "      <th>rf</th>\n",
              "      <td>Random Forest Regressor</td>\n",
              "      <td>0.0970</td>\n",
              "      <td>0.0199</td>\n",
              "      <td>0.1400</td>\n",
              "      <td>0.8759</td>\n",
              "      <td>0.0110</td>\n",
              "      <td>0.0082</td>\n",
              "      <td>1.613</td>\n",
              "    </tr>\n",
              "    <tr>\n",
              "      <th>knn</th>\n",
              "      <td>K Neighbors Regressor</td>\n",
              "      <td>0.1196</td>\n",
              "      <td>0.0283</td>\n",
              "      <td>0.1675</td>\n",
              "      <td>0.8248</td>\n",
              "      <td>0.0131</td>\n",
              "      <td>0.0101</td>\n",
              "      <td>0.078</td>\n",
              "    </tr>\n",
              "    <tr>\n",
              "      <th>ada</th>\n",
              "      <td>AdaBoost Regressor</td>\n",
              "      <td>0.1268</td>\n",
              "      <td>0.0286</td>\n",
              "      <td>0.1686</td>\n",
              "      <td>0.8215</td>\n",
              "      <td>0.0132</td>\n",
              "      <td>0.0106</td>\n",
              "      <td>0.342</td>\n",
              "    </tr>\n",
              "    <tr>\n",
              "      <th>huber</th>\n",
              "      <td>Huber Regressor</td>\n",
              "      <td>0.1097</td>\n",
              "      <td>0.0309</td>\n",
              "      <td>0.1704</td>\n",
              "      <td>0.8081</td>\n",
              "      <td>0.0135</td>\n",
              "      <td>0.0092</td>\n",
              "      <td>0.168</td>\n",
              "    </tr>\n",
              "    <tr>\n",
              "      <th>par</th>\n",
              "      <td>Passive Aggressive Regressor</td>\n",
              "      <td>0.1376</td>\n",
              "      <td>0.0414</td>\n",
              "      <td>0.1997</td>\n",
              "      <td>0.7412</td>\n",
              "      <td>0.0158</td>\n",
              "      <td>0.0116</td>\n",
              "      <td>0.038</td>\n",
              "    </tr>\n",
              "    <tr>\n",
              "      <th>dt</th>\n",
              "      <td>Decision Tree Regressor</td>\n",
              "      <td>0.1475</td>\n",
              "      <td>0.0457</td>\n",
              "      <td>0.2119</td>\n",
              "      <td>0.7166</td>\n",
              "      <td>0.0167</td>\n",
              "      <td>0.0124</td>\n",
              "      <td>0.043</td>\n",
              "    </tr>\n",
              "    <tr>\n",
              "      <th>lasso</th>\n",
              "      <td>Lasso Regression</td>\n",
              "      <td>0.3230</td>\n",
              "      <td>0.1665</td>\n",
              "      <td>0.4072</td>\n",
              "      <td>-0.0193</td>\n",
              "      <td>0.0314</td>\n",
              "      <td>0.0270</td>\n",
              "      <td>0.022</td>\n",
              "    </tr>\n",
              "    <tr>\n",
              "      <th>en</th>\n",
              "      <td>Elastic Net</td>\n",
              "      <td>0.3230</td>\n",
              "      <td>0.1665</td>\n",
              "      <td>0.4072</td>\n",
              "      <td>-0.0193</td>\n",
              "      <td>0.0314</td>\n",
              "      <td>0.0270</td>\n",
              "      <td>0.022</td>\n",
              "    </tr>\n",
              "    <tr>\n",
              "      <th>llar</th>\n",
              "      <td>Lasso Least Angle Regression</td>\n",
              "      <td>0.3230</td>\n",
              "      <td>0.1665</td>\n",
              "      <td>0.4072</td>\n",
              "      <td>-0.0193</td>\n",
              "      <td>0.0314</td>\n",
              "      <td>0.0270</td>\n",
              "      <td>0.302</td>\n",
              "    </tr>\n",
              "    <tr>\n",
              "      <th>lr</th>\n",
              "      <td>Linear Regression</td>\n",
              "      <td>0.4788</td>\n",
              "      <td>16.3587</td>\n",
              "      <td>2.7958</td>\n",
              "      <td>-97.8073</td>\n",
              "      <td>0.1222</td>\n",
              "      <td>0.0407</td>\n",
              "      <td>0.339</td>\n",
              "    </tr>\n",
              "  </tbody>\n",
              "</table>\n",
              "</div>"
            ],
            "text/plain": [
              "                                    Model     MAE      MSE    RMSE       R2  \\\n",
              "br                         Bayesian Ridge  0.0773   0.0124  0.1100   0.9226   \n",
              "ridge                    Ridge Regression  0.0808   0.0131  0.1135   0.9178   \n",
              "omp           Orthogonal Matching Pursuit  0.0881   0.0152  0.1222   0.9054   \n",
              "gbr           Gradient Boosting Regressor  0.0869   0.0154  0.1234   0.9036   \n",
              "lightgbm  Light Gradient Boosting Machine  0.0922   0.0174  0.1312   0.8918   \n",
              "et                  Extra Trees Regressor  0.0976   0.0195  0.1386   0.8770   \n",
              "rf                Random Forest Regressor  0.0970   0.0199  0.1400   0.8759   \n",
              "knn                 K Neighbors Regressor  0.1196   0.0283  0.1675   0.8248   \n",
              "ada                    AdaBoost Regressor  0.1268   0.0286  0.1686   0.8215   \n",
              "huber                     Huber Regressor  0.1097   0.0309  0.1704   0.8081   \n",
              "par          Passive Aggressive Regressor  0.1376   0.0414  0.1997   0.7412   \n",
              "dt                Decision Tree Regressor  0.1475   0.0457  0.2119   0.7166   \n",
              "lasso                    Lasso Regression  0.3230   0.1665  0.4072  -0.0193   \n",
              "en                            Elastic Net  0.3230   0.1665  0.4072  -0.0193   \n",
              "llar         Lasso Least Angle Regression  0.3230   0.1665  0.4072  -0.0193   \n",
              "lr                      Linear Regression  0.4788  16.3587  2.7958 -97.8073   \n",
              "\n",
              "           RMSLE    MAPE  TT (Sec)  \n",
              "br        0.0087  0.0065     0.085  \n",
              "ridge     0.0089  0.0068     0.026  \n",
              "omp       0.0096  0.0074     0.026  \n",
              "gbr       0.0097  0.0073     0.463  \n",
              "lightgbm  0.0103  0.0078     0.216  \n",
              "et        0.0109  0.0082     1.595  \n",
              "rf        0.0110  0.0082     1.613  \n",
              "knn       0.0131  0.0101     0.078  \n",
              "ada       0.0132  0.0106     0.342  \n",
              "huber     0.0135  0.0092     0.168  \n",
              "par       0.0158  0.0116     0.038  \n",
              "dt        0.0167  0.0124     0.043  \n",
              "lasso     0.0314  0.0270     0.022  \n",
              "en        0.0314  0.0270     0.022  \n",
              "llar      0.0314  0.0270     0.302  \n",
              "lr        0.1222  0.0407     0.339  "
            ]
          },
          "metadata": {
            "tags": []
          }
        }
      ]
    },
    {
      "cell_type": "markdown",
      "metadata": {
        "id": "wRVGJH1c_kuY"
      },
      "source": [
        "# Creating a Ridge Model"
      ]
    },
    {
      "cell_type": "code",
      "metadata": {
        "colab": {
          "base_uri": "https://localhost:8080/",
          "height": 407,
          "referenced_widgets": [
            "85125466f1934088bd380e65b98243fa",
            "547a2fe1080943428ca5567a99c42f77",
            "94e9e7fc4ade4e85960edee86a71dfd4"
          ]
        },
        "id": "TBUXPdIwv35k",
        "outputId": "d84760f3-aedf-4765-e245-8c8ca9cc50c9"
      },
      "source": [
        "ridge = create_model('ridge')"
      ],
      "execution_count": null,
      "outputs": [
        {
          "output_type": "display_data",
          "data": {
            "text/html": [
              "<div>\n",
              "<style scoped>\n",
              "    .dataframe tbody tr th:only-of-type {\n",
              "        vertical-align: middle;\n",
              "    }\n",
              "\n",
              "    .dataframe tbody tr th {\n",
              "        vertical-align: top;\n",
              "    }\n",
              "\n",
              "    .dataframe thead th {\n",
              "        text-align: right;\n",
              "    }\n",
              "</style>\n",
              "<table border=\"1\" class=\"dataframe\">\n",
              "  <thead>\n",
              "    <tr style=\"text-align: right;\">\n",
              "      <th></th>\n",
              "      <th>MAE</th>\n",
              "      <th>MSE</th>\n",
              "      <th>RMSE</th>\n",
              "      <th>R2</th>\n",
              "      <th>RMSLE</th>\n",
              "      <th>MAPE</th>\n",
              "    </tr>\n",
              "  </thead>\n",
              "  <tbody>\n",
              "    <tr>\n",
              "      <th>0</th>\n",
              "      <td>0.0852</td>\n",
              "      <td>0.0160</td>\n",
              "      <td>0.1267</td>\n",
              "      <td>0.8846</td>\n",
              "      <td>0.0101</td>\n",
              "      <td>0.0073</td>\n",
              "    </tr>\n",
              "    <tr>\n",
              "      <th>1</th>\n",
              "      <td>0.0741</td>\n",
              "      <td>0.0091</td>\n",
              "      <td>0.0957</td>\n",
              "      <td>0.9514</td>\n",
              "      <td>0.0073</td>\n",
              "      <td>0.0062</td>\n",
              "    </tr>\n",
              "    <tr>\n",
              "      <th>2</th>\n",
              "      <td>0.0883</td>\n",
              "      <td>0.0138</td>\n",
              "      <td>0.1175</td>\n",
              "      <td>0.9271</td>\n",
              "      <td>0.0092</td>\n",
              "      <td>0.0074</td>\n",
              "    </tr>\n",
              "    <tr>\n",
              "      <th>3</th>\n",
              "      <td>0.0620</td>\n",
              "      <td>0.0063</td>\n",
              "      <td>0.0792</td>\n",
              "      <td>0.9582</td>\n",
              "      <td>0.0061</td>\n",
              "      <td>0.0052</td>\n",
              "    </tr>\n",
              "    <tr>\n",
              "      <th>4</th>\n",
              "      <td>0.0864</td>\n",
              "      <td>0.0144</td>\n",
              "      <td>0.1199</td>\n",
              "      <td>0.9245</td>\n",
              "      <td>0.0095</td>\n",
              "      <td>0.0073</td>\n",
              "    </tr>\n",
              "    <tr>\n",
              "      <th>5</th>\n",
              "      <td>0.0902</td>\n",
              "      <td>0.0165</td>\n",
              "      <td>0.1284</td>\n",
              "      <td>0.8900</td>\n",
              "      <td>0.0098</td>\n",
              "      <td>0.0075</td>\n",
              "    </tr>\n",
              "    <tr>\n",
              "      <th>6</th>\n",
              "      <td>0.0834</td>\n",
              "      <td>0.0173</td>\n",
              "      <td>0.1314</td>\n",
              "      <td>0.9003</td>\n",
              "      <td>0.0105</td>\n",
              "      <td>0.0070</td>\n",
              "    </tr>\n",
              "    <tr>\n",
              "      <th>7</th>\n",
              "      <td>0.0772</td>\n",
              "      <td>0.0134</td>\n",
              "      <td>0.1157</td>\n",
              "      <td>0.9096</td>\n",
              "      <td>0.0092</td>\n",
              "      <td>0.0064</td>\n",
              "    </tr>\n",
              "    <tr>\n",
              "      <th>8</th>\n",
              "      <td>0.0793</td>\n",
              "      <td>0.0105</td>\n",
              "      <td>0.1022</td>\n",
              "      <td>0.9408</td>\n",
              "      <td>0.0081</td>\n",
              "      <td>0.0067</td>\n",
              "    </tr>\n",
              "    <tr>\n",
              "      <th>9</th>\n",
              "      <td>0.0819</td>\n",
              "      <td>0.0140</td>\n",
              "      <td>0.1185</td>\n",
              "      <td>0.8920</td>\n",
              "      <td>0.0094</td>\n",
              "      <td>0.0069</td>\n",
              "    </tr>\n",
              "    <tr>\n",
              "      <th>Mean</th>\n",
              "      <td>0.0808</td>\n",
              "      <td>0.0131</td>\n",
              "      <td>0.1135</td>\n",
              "      <td>0.9178</td>\n",
              "      <td>0.0089</td>\n",
              "      <td>0.0068</td>\n",
              "    </tr>\n",
              "    <tr>\n",
              "      <th>SD</th>\n",
              "      <td>0.0079</td>\n",
              "      <td>0.0033</td>\n",
              "      <td>0.0156</td>\n",
              "      <td>0.0252</td>\n",
              "      <td>0.0013</td>\n",
              "      <td>0.0007</td>\n",
              "    </tr>\n",
              "  </tbody>\n",
              "</table>\n",
              "</div>"
            ],
            "text/plain": [
              "         MAE     MSE    RMSE      R2   RMSLE    MAPE\n",
              "0     0.0852  0.0160  0.1267  0.8846  0.0101  0.0073\n",
              "1     0.0741  0.0091  0.0957  0.9514  0.0073  0.0062\n",
              "2     0.0883  0.0138  0.1175  0.9271  0.0092  0.0074\n",
              "3     0.0620  0.0063  0.0792  0.9582  0.0061  0.0052\n",
              "4     0.0864  0.0144  0.1199  0.9245  0.0095  0.0073\n",
              "5     0.0902  0.0165  0.1284  0.8900  0.0098  0.0075\n",
              "6     0.0834  0.0173  0.1314  0.9003  0.0105  0.0070\n",
              "7     0.0772  0.0134  0.1157  0.9096  0.0092  0.0064\n",
              "8     0.0793  0.0105  0.1022  0.9408  0.0081  0.0067\n",
              "9     0.0819  0.0140  0.1185  0.8920  0.0094  0.0069\n",
              "Mean  0.0808  0.0131  0.1135  0.9178  0.0089  0.0068\n",
              "SD    0.0079  0.0033  0.0156  0.0252  0.0013  0.0007"
            ]
          },
          "metadata": {
            "tags": []
          }
        }
      ]
    },
    {
      "cell_type": "markdown",
      "metadata": {
        "id": "PJZRMFuB_oIE"
      },
      "source": [
        "# Tuning the Ridge Model Further"
      ]
    },
    {
      "cell_type": "code",
      "metadata": {
        "colab": {
          "base_uri": "https://localhost:8080/",
          "height": 407,
          "referenced_widgets": [
            "c3d1d08da83a4c2ea0b2377adf6cdfc0",
            "9fff2b758b7643ea91688f8f6df3c343",
            "fbc2691155e2416e8c30c17823c9077f"
          ]
        },
        "id": "41qwei9gilhx",
        "outputId": "31f33489-f315-4a48-ae57-5b72a0963e0f"
      },
      "source": [
        "tuned_ridge = tune_model(ridge, optimize = 'RMSLE', n_iter= 20)"
      ],
      "execution_count": null,
      "outputs": [
        {
          "output_type": "display_data",
          "data": {
            "text/html": [
              "<div>\n",
              "<style scoped>\n",
              "    .dataframe tbody tr th:only-of-type {\n",
              "        vertical-align: middle;\n",
              "    }\n",
              "\n",
              "    .dataframe tbody tr th {\n",
              "        vertical-align: top;\n",
              "    }\n",
              "\n",
              "    .dataframe thead th {\n",
              "        text-align: right;\n",
              "    }\n",
              "</style>\n",
              "<table border=\"1\" class=\"dataframe\">\n",
              "  <thead>\n",
              "    <tr style=\"text-align: right;\">\n",
              "      <th></th>\n",
              "      <th>MAE</th>\n",
              "      <th>MSE</th>\n",
              "      <th>RMSE</th>\n",
              "      <th>R2</th>\n",
              "      <th>RMSLE</th>\n",
              "      <th>MAPE</th>\n",
              "    </tr>\n",
              "  </thead>\n",
              "  <tbody>\n",
              "    <tr>\n",
              "      <th>0</th>\n",
              "      <td>0.0870</td>\n",
              "      <td>0.0164</td>\n",
              "      <td>0.1279</td>\n",
              "      <td>0.8823</td>\n",
              "      <td>0.0102</td>\n",
              "      <td>0.0074</td>\n",
              "    </tr>\n",
              "    <tr>\n",
              "      <th>1</th>\n",
              "      <td>0.0723</td>\n",
              "      <td>0.0091</td>\n",
              "      <td>0.0952</td>\n",
              "      <td>0.9519</td>\n",
              "      <td>0.0073</td>\n",
              "      <td>0.0060</td>\n",
              "    </tr>\n",
              "    <tr>\n",
              "      <th>2</th>\n",
              "      <td>0.0761</td>\n",
              "      <td>0.0110</td>\n",
              "      <td>0.1050</td>\n",
              "      <td>0.9418</td>\n",
              "      <td>0.0082</td>\n",
              "      <td>0.0064</td>\n",
              "    </tr>\n",
              "    <tr>\n",
              "      <th>3</th>\n",
              "      <td>0.0577</td>\n",
              "      <td>0.0055</td>\n",
              "      <td>0.0744</td>\n",
              "      <td>0.9631</td>\n",
              "      <td>0.0057</td>\n",
              "      <td>0.0048</td>\n",
              "    </tr>\n",
              "    <tr>\n",
              "      <th>4</th>\n",
              "      <td>0.0826</td>\n",
              "      <td>0.0140</td>\n",
              "      <td>0.1183</td>\n",
              "      <td>0.9266</td>\n",
              "      <td>0.0095</td>\n",
              "      <td>0.0070</td>\n",
              "    </tr>\n",
              "    <tr>\n",
              "      <th>5</th>\n",
              "      <td>0.0871</td>\n",
              "      <td>0.0156</td>\n",
              "      <td>0.1249</td>\n",
              "      <td>0.8959</td>\n",
              "      <td>0.0096</td>\n",
              "      <td>0.0073</td>\n",
              "    </tr>\n",
              "    <tr>\n",
              "      <th>6</th>\n",
              "      <td>0.0819</td>\n",
              "      <td>0.0176</td>\n",
              "      <td>0.1328</td>\n",
              "      <td>0.8981</td>\n",
              "      <td>0.0106</td>\n",
              "      <td>0.0069</td>\n",
              "    </tr>\n",
              "    <tr>\n",
              "      <th>7</th>\n",
              "      <td>0.0698</td>\n",
              "      <td>0.0101</td>\n",
              "      <td>0.1003</td>\n",
              "      <td>0.9320</td>\n",
              "      <td>0.0079</td>\n",
              "      <td>0.0058</td>\n",
              "    </tr>\n",
              "    <tr>\n",
              "      <th>8</th>\n",
              "      <td>0.0796</td>\n",
              "      <td>0.0111</td>\n",
              "      <td>0.1052</td>\n",
              "      <td>0.9373</td>\n",
              "      <td>0.0083</td>\n",
              "      <td>0.0068</td>\n",
              "    </tr>\n",
              "    <tr>\n",
              "      <th>9</th>\n",
              "      <td>0.0793</td>\n",
              "      <td>0.0131</td>\n",
              "      <td>0.1146</td>\n",
              "      <td>0.8989</td>\n",
              "      <td>0.0092</td>\n",
              "      <td>0.0067</td>\n",
              "    </tr>\n",
              "    <tr>\n",
              "      <th>Mean</th>\n",
              "      <td>0.0773</td>\n",
              "      <td>0.0124</td>\n",
              "      <td>0.1099</td>\n",
              "      <td>0.9228</td>\n",
              "      <td>0.0086</td>\n",
              "      <td>0.0065</td>\n",
              "    </tr>\n",
              "    <tr>\n",
              "      <th>SD</th>\n",
              "      <td>0.0085</td>\n",
              "      <td>0.0035</td>\n",
              "      <td>0.0167</td>\n",
              "      <td>0.0258</td>\n",
              "      <td>0.0014</td>\n",
              "      <td>0.0007</td>\n",
              "    </tr>\n",
              "  </tbody>\n",
              "</table>\n",
              "</div>"
            ],
            "text/plain": [
              "         MAE     MSE    RMSE      R2   RMSLE    MAPE\n",
              "0     0.0870  0.0164  0.1279  0.8823  0.0102  0.0074\n",
              "1     0.0723  0.0091  0.0952  0.9519  0.0073  0.0060\n",
              "2     0.0761  0.0110  0.1050  0.9418  0.0082  0.0064\n",
              "3     0.0577  0.0055  0.0744  0.9631  0.0057  0.0048\n",
              "4     0.0826  0.0140  0.1183  0.9266  0.0095  0.0070\n",
              "5     0.0871  0.0156  0.1249  0.8959  0.0096  0.0073\n",
              "6     0.0819  0.0176  0.1328  0.8981  0.0106  0.0069\n",
              "7     0.0698  0.0101  0.1003  0.9320  0.0079  0.0058\n",
              "8     0.0796  0.0111  0.1052  0.9373  0.0083  0.0068\n",
              "9     0.0793  0.0131  0.1146  0.8989  0.0092  0.0067\n",
              "Mean  0.0773  0.0124  0.1099  0.9228  0.0086  0.0065\n",
              "SD    0.0085  0.0035  0.0167  0.0258  0.0014  0.0007"
            ]
          },
          "metadata": {
            "tags": []
          }
        }
      ]
    },
    {
      "cell_type": "markdown",
      "metadata": {
        "id": "CpHGQdrt_tnD"
      },
      "source": [
        "# Finalizing the Tuned Ridge Model to the entire Train Set"
      ]
    },
    {
      "cell_type": "code",
      "metadata": {
        "id": "TEvBYuJIwRLO"
      },
      "source": [
        "final_ridge = finalize_model(tuned_ridge)"
      ],
      "execution_count": null,
      "outputs": []
    },
    {
      "cell_type": "markdown",
      "metadata": {
        "id": "VpkGxrdP_zBg"
      },
      "source": [
        "# Creating Predictions on Test Set and Reverse Transforming the Predicted Target column"
      ]
    },
    {
      "cell_type": "code",
      "metadata": {
        "id": "FTx-u8S4wUVV"
      },
      "source": [
        "pred = predict_model(final_ridge,data = test)\n",
        "pred['SalePrice'] = np.exp(pred['Label'])"
      ],
      "execution_count": null,
      "outputs": []
    },
    {
      "cell_type": "markdown",
      "metadata": {
        "id": "ODkfpdfz_9oe"
      },
      "source": [
        "# Selecting the Necessary Columns and Saving to a CSV File"
      ]
    },
    {
      "cell_type": "code",
      "metadata": {
        "id": "20P8hqmTw0hs"
      },
      "source": [
        "final_pred = pred[['Id','SalePrice']]\n",
        "final_pred.to_csv('kaggle_final_pred.csv')"
      ],
      "execution_count": null,
      "outputs": []
    }
  ]
}